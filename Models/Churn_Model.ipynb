{
 "cells": [
  {
   "cell_type": "markdown",
   "metadata": {},
   "source": [
    "## Churn Model for Telecom\n",
    "Streamlabs Telecom has one major problem: our customers are leaving our service for competitors at an alarming rate. The task is to build a churn model to help build a model that can identify these customers going forward."
   ]
  },
  {
   "cell_type": "markdown",
   "metadata": {},
   "source": [
    "We took the following steps:\n",
    "- Part I. Creation of the Training (70%) and Test Set (30%).\n",
    "    1. We randomly split the data into the training and test set.\n",
    "    2. We saved the training and test sets.\n",
    "  \n",
    "  \n",
    "- Part II. Exploration of the Training Set\n",
    "    1. We addressed the issue of null values.\n",
    "    2. Identified and addressed churn class imbalance.\n",
    "    3. Selected roc-auc score instead of accuracy as the evaluation metric due to class imbalance. \n",
    " \n",
    " \n",
    "- Part III. Feature Engineering\n",
    "    1. We accounted for income and the number of users on the account.\n",
    "   \n",
    "   \n",
    "- Part IV. Categorical Feature Exploration and Feature Selection.\n",
    "    1. Chi-square test for categorical features relevant to churn.\n",
    "    2. Visualization of the selected categorical features for churning and non-churning customers.\n",
    "\n",
    "\n",
    "- Part V. Numerical Features Exploration and Feature Selection.\n",
    "     1. Feature correlations with churn.\n",
    "     2. Visualizations of the correlated features.\n",
    "     3. Log-transformation of the numerical features.\n",
    "     4. Identify features that have low correlation with churn.\n",
    "     5. Standardization of the numerical features.\n",
    "     \n",
    "Part VI. Filter Methof of Feature Selection\n",
    "\n",
    "Part VII. Train and Cross-Validate Supervised Models.\n",
    "    1. Logistic regression (with l1 and l2 regularization).\n",
    "    2. Random Forest.\n",
    "    3. CatBoost.\n",
    "    \n",
    "    \n",
    "Part VIIII. Train and Save the Models With the Best Hyperparameters.\n",
    "    "
   ]
  },
  {
   "cell_type": "code",
   "execution_count": 1,
   "metadata": {},
   "outputs": [],
   "source": [
    "import pandas as pd\n",
    "import numpy as np\n",
    "import scipy.stats as stats\n",
    "import matplotlib.pyplot as plt\n",
    "%matplotlib inline\n",
    "import seaborn as sns\n",
    "from sklearn.model_selection import train_test_split\n",
    "from sklearn.preprocessing import StandardScaler\n",
    "from imblearn.under_sampling import RandomUnderSampler\n",
    "from imblearn.pipeline import Pipeline\n",
    "from sklearn.feature_selection import chi2\n",
    "from sklearn.feature_selection import SelectKBest\n",
    "from sklearn.linear_model import LogisticRegression\n",
    "from sklearn.ensemble import RandomForestClassifier\n",
    "from catboost import CatBoostClassifier\n",
    "import joblib\n",
    "from sklearn.metrics import roc_auc_score\n",
    "from sklearn.model_selection import GridSearchCV\n",
    "import warnings\n",
    "warnings.filterwarnings('ignore')\n",
    "import helper_functions as hf"
   ]
  },
  {
   "cell_type": "code",
   "execution_count": 2,
   "metadata": {},
   "outputs": [],
   "source": [
    "# read in the data\n",
    "customer_data = pd.read_csv('../cell_customer_data.csv')"
   ]
  },
  {
   "cell_type": "code",
   "execution_count": 3,
   "metadata": {},
   "outputs": [
    {
     "data": {
      "text/html": [
       "<div>\n",
       "<style scoped>\n",
       "    .dataframe tbody tr th:only-of-type {\n",
       "        vertical-align: middle;\n",
       "    }\n",
       "\n",
       "    .dataframe tbody tr th {\n",
       "        vertical-align: top;\n",
       "    }\n",
       "\n",
       "    .dataframe thead th {\n",
       "        text-align: right;\n",
       "    }\n",
       "</style>\n",
       "<table border=\"1\" class=\"dataframe\">\n",
       "  <thead>\n",
       "    <tr style=\"text-align: right;\">\n",
       "      <th></th>\n",
       "      <th>customer_id</th>\n",
       "      <th>revenue</th>\n",
       "      <th>mou</th>\n",
       "      <th>recurring_charge</th>\n",
       "      <th>director_assist</th>\n",
       "      <th>overage</th>\n",
       "      <th>roaming</th>\n",
       "      <th>minutes_delta</th>\n",
       "      <th>revenue_delta</th>\n",
       "      <th>dropped_calls</th>\n",
       "      <th>...</th>\n",
       "      <th>credit_card</th>\n",
       "      <th>accept_offer</th>\n",
       "      <th>new_user</th>\n",
       "      <th>existing_user</th>\n",
       "      <th>referrals</th>\n",
       "      <th>income</th>\n",
       "      <th>motorcycle</th>\n",
       "      <th>handset_price</th>\n",
       "      <th>retcall</th>\n",
       "      <th>churn</th>\n",
       "    </tr>\n",
       "  </thead>\n",
       "  <tbody>\n",
       "    <tr>\n",
       "      <th>0</th>\n",
       "      <td>1047857.0</td>\n",
       "      <td>47.9150</td>\n",
       "      <td>290.00</td>\n",
       "      <td>59.990</td>\n",
       "      <td>0.0000</td>\n",
       "      <td>0.00</td>\n",
       "      <td>0.0000</td>\n",
       "      <td>-163.00</td>\n",
       "      <td>-0.4250</td>\n",
       "      <td>0.000000</td>\n",
       "      <td>...</td>\n",
       "      <td>1</td>\n",
       "      <td>0</td>\n",
       "      <td>0</td>\n",
       "      <td>0</td>\n",
       "      <td>0</td>\n",
       "      <td>6</td>\n",
       "      <td>0</td>\n",
       "      <td>79.98999</td>\n",
       "      <td>0</td>\n",
       "      <td>0</td>\n",
       "    </tr>\n",
       "    <tr>\n",
       "      <th>1</th>\n",
       "      <td>1089242.0</td>\n",
       "      <td>193.6225</td>\n",
       "      <td>1506.75</td>\n",
       "      <td>74.575</td>\n",
       "      <td>3.2175</td>\n",
       "      <td>196.25</td>\n",
       "      <td>9.5150</td>\n",
       "      <td>1187.25</td>\n",
       "      <td>156.8275</td>\n",
       "      <td>13.666667</td>\n",
       "      <td>...</td>\n",
       "      <td>1</td>\n",
       "      <td>0</td>\n",
       "      <td>1</td>\n",
       "      <td>0</td>\n",
       "      <td>0</td>\n",
       "      <td>6</td>\n",
       "      <td>0</td>\n",
       "      <td>79.98999</td>\n",
       "      <td>0</td>\n",
       "      <td>0</td>\n",
       "    </tr>\n",
       "    <tr>\n",
       "      <th>2</th>\n",
       "      <td>1055923.0</td>\n",
       "      <td>14.2725</td>\n",
       "      <td>148.50</td>\n",
       "      <td>10.000</td>\n",
       "      <td>0.0000</td>\n",
       "      <td>11.25</td>\n",
       "      <td>0.8975</td>\n",
       "      <td>-29.50</td>\n",
       "      <td>-4.2725</td>\n",
       "      <td>0.333333</td>\n",
       "      <td>...</td>\n",
       "      <td>1</td>\n",
       "      <td>0</td>\n",
       "      <td>0</td>\n",
       "      <td>0</td>\n",
       "      <td>0</td>\n",
       "      <td>6</td>\n",
       "      <td>0</td>\n",
       "      <td>0.00000</td>\n",
       "      <td>0</td>\n",
       "      <td>1</td>\n",
       "    </tr>\n",
       "    <tr>\n",
       "      <th>3</th>\n",
       "      <td>1092398.0</td>\n",
       "      <td>50.6800</td>\n",
       "      <td>870.50</td>\n",
       "      <td>59.990</td>\n",
       "      <td>0.4950</td>\n",
       "      <td>0.00</td>\n",
       "      <td>0.1950</td>\n",
       "      <td>-28.50</td>\n",
       "      <td>-0.6900</td>\n",
       "      <td>23.000000</td>\n",
       "      <td>...</td>\n",
       "      <td>0</td>\n",
       "      <td>0</td>\n",
       "      <td>0</td>\n",
       "      <td>0</td>\n",
       "      <td>0</td>\n",
       "      <td>0</td>\n",
       "      <td>0</td>\n",
       "      <td>149.98999</td>\n",
       "      <td>0</td>\n",
       "      <td>0</td>\n",
       "    </tr>\n",
       "    <tr>\n",
       "      <th>4</th>\n",
       "      <td>1063898.0</td>\n",
       "      <td>156.4375</td>\n",
       "      <td>1992.25</td>\n",
       "      <td>84.990</td>\n",
       "      <td>4.9500</td>\n",
       "      <td>255.00</td>\n",
       "      <td>0.0000</td>\n",
       "      <td>204.75</td>\n",
       "      <td>51.0225</td>\n",
       "      <td>31.000000</td>\n",
       "      <td>...</td>\n",
       "      <td>1</td>\n",
       "      <td>0</td>\n",
       "      <td>1</td>\n",
       "      <td>0</td>\n",
       "      <td>0</td>\n",
       "      <td>8</td>\n",
       "      <td>0</td>\n",
       "      <td>149.98999</td>\n",
       "      <td>0</td>\n",
       "      <td>0</td>\n",
       "    </tr>\n",
       "  </tbody>\n",
       "</table>\n",
       "<p>5 rows × 58 columns</p>\n",
       "</div>"
      ],
      "text/plain": [
       "   customer_id   revenue      mou  recurring_charge  director_assist  overage  \\\n",
       "0    1047857.0   47.9150   290.00            59.990           0.0000     0.00   \n",
       "1    1089242.0  193.6225  1506.75            74.575           3.2175   196.25   \n",
       "2    1055923.0   14.2725   148.50            10.000           0.0000    11.25   \n",
       "3    1092398.0   50.6800   870.50            59.990           0.4950     0.00   \n",
       "4    1063898.0  156.4375  1992.25            84.990           4.9500   255.00   \n",
       "\n",
       "   roaming  minutes_delta  revenue_delta  dropped_calls  ...  credit_card  \\\n",
       "0   0.0000        -163.00        -0.4250       0.000000  ...            1   \n",
       "1   9.5150        1187.25       156.8275      13.666667  ...            1   \n",
       "2   0.8975         -29.50        -4.2725       0.333333  ...            1   \n",
       "3   0.1950         -28.50        -0.6900      23.000000  ...            0   \n",
       "4   0.0000         204.75        51.0225      31.000000  ...            1   \n",
       "\n",
       "   accept_offer  new_user  existing_user  referrals  income  motorcycle  \\\n",
       "0             0         0              0          0       6           0   \n",
       "1             0         1              0          0       6           0   \n",
       "2             0         0              0          0       6           0   \n",
       "3             0         0              0          0       0           0   \n",
       "4             0         1              0          0       8           0   \n",
       "\n",
       "   handset_price  retcall  churn  \n",
       "0       79.98999        0      0  \n",
       "1       79.98999        0      0  \n",
       "2        0.00000        0      1  \n",
       "3      149.98999        0      0  \n",
       "4      149.98999        0      0  \n",
       "\n",
       "[5 rows x 58 columns]"
      ]
     },
     "execution_count": 3,
     "metadata": {},
     "output_type": "execute_result"
    }
   ],
   "source": [
    "customer_data.head()"
   ]
  },
  {
   "cell_type": "code",
   "execution_count": 4,
   "metadata": {},
   "outputs": [
    {
     "data": {
      "text/plain": [
       "Index(['customer_id', 'revenue', 'mou', 'recurring_charge', 'director_assist',\n",
       "       'overage', 'roaming', 'minutes_delta', 'revenue_delta', 'dropped_calls',\n",
       "       'blocked_calls', 'unanswered', 'customer_care', 'conference',\n",
       "       'mou_received', 'outcalls', 'incalls', 'peaks', 'off_peaks',\n",
       "       'call_forwarding', 'call_waiting', 'months', 'uniq_subs', 'active_subs',\n",
       "       'phones', 'models', 'eqp_days', 'age1', 'age2', 'children', 'credit_a',\n",
       "       'credit_aa', 'rural', 'suburban', 'town', 'refurbished', 'web_capable',\n",
       "       'truck', 'rv', 'job_prof', 'job_clerical', 'job_crafts', 'job_student',\n",
       "       'job_homemaker', 'job_retired', 'job_self', 'travel', 'pcown',\n",
       "       'credit_card', 'accept_offer', 'new_user', 'existing_user', 'referrals',\n",
       "       'income', 'motorcycle', 'handset_price', 'retcall', 'churn'],\n",
       "      dtype='object')"
      ]
     },
     "execution_count": 4,
     "metadata": {},
     "output_type": "execute_result"
    }
   ],
   "source": [
    "customer_data.columns"
   ]
  },
  {
   "cell_type": "code",
   "execution_count": 5,
   "metadata": {},
   "outputs": [
    {
     "data": {
      "text/plain": [
       "(56837, 58)"
      ]
     },
     "execution_count": 5,
     "metadata": {},
     "output_type": "execute_result"
    }
   ],
   "source": [
    "customer_data.shape"
   ]
  },
  {
   "cell_type": "markdown",
   "metadata": {},
   "source": [
    "## Part I. Train-Test \n",
    "To avoid exposure to the data that we will later use for evaluation, we will split the data set into the training and test sets. For data exploration, we will only use the training set."
   ]
  },
  {
   "cell_type": "code",
   "execution_count": 6,
   "metadata": {},
   "outputs": [],
   "source": [
    "# create a target variable from the 'churn' column\n",
    "y = customer_data['churn']\n",
    "# create features and exclude the 'churn' and customer_id columns\n",
    "X = customer_data.drop(columns=['churn'])"
   ]
  },
  {
   "cell_type": "code",
   "execution_count": 7,
   "metadata": {},
   "outputs": [
    {
     "data": {
      "text/plain": [
       "False"
      ]
     },
     "execution_count": 7,
     "metadata": {},
     "output_type": "execute_result"
    }
   ],
   "source": [
    "# check to make sure the 'churn' column is not in features\n",
    "'churn' in X.columns"
   ]
  },
  {
   "cell_type": "markdown",
   "metadata": {},
   "source": [
    "### 1. Split the Dataset into Training (70%) and Test Set (30%)"
   ]
  },
  {
   "cell_type": "code",
   "execution_count": 8,
   "metadata": {},
   "outputs": [],
   "source": [
    "X_train, X_test, y_train, y_test = train_test_split(X, y, test_size=0.3, random_state=108)"
   ]
  },
  {
   "cell_type": "code",
   "execution_count": 9,
   "metadata": {},
   "outputs": [],
   "source": [
    "# remove customer_id from the features \n",
    "X_train = X_train.drop(columns=['customer_id'])"
   ]
  },
  {
   "cell_type": "markdown",
   "metadata": {},
   "source": [
    "### 2. Save The Training and Test Sets"
   ]
  },
  {
   "cell_type": "code",
   "execution_count": 10,
   "metadata": {},
   "outputs": [],
   "source": [
    "# save the training set\n",
    "pd.concat([X_train, y_train], axis=1).to_csv('data/training_set.csv', index=False)\n",
    "\n",
    "# save the test set\n",
    "pd.concat([X_test, y_test], axis=1).to_csv('data/test_set.csv', index=False)"
   ]
  },
  {
   "cell_type": "code",
   "execution_count": 11,
   "metadata": {},
   "outputs": [
    {
     "data": {
      "text/plain": [
       "(39785, 56)"
      ]
     },
     "execution_count": 11,
     "metadata": {},
     "output_type": "execute_result"
    }
   ],
   "source": [
    "# check the size of the training set\n",
    "X_train.shape"
   ]
  },
  {
   "cell_type": "code",
   "execution_count": 12,
   "metadata": {},
   "outputs": [
    {
     "data": {
      "text/plain": [
       "(17052, 57)"
      ]
     },
     "execution_count": 12,
     "metadata": {},
     "output_type": "execute_result"
    }
   ],
   "source": [
    "# check the size of the test set\n",
    "X_test.shape"
   ]
  },
  {
   "cell_type": "markdown",
   "metadata": {},
   "source": [
    "## Part II. Exploration of the Training Set"
   ]
  },
  {
   "cell_type": "code",
   "execution_count": 13,
   "metadata": {},
   "outputs": [
    {
     "data": {
      "text/plain": [
       "(39785, 56)"
      ]
     },
     "execution_count": 13,
     "metadata": {},
     "output_type": "execute_result"
    }
   ],
   "source": [
    "X_train.shape"
   ]
  },
  {
   "cell_type": "code",
   "execution_count": 14,
   "metadata": {},
   "outputs": [
    {
     "data": {
      "text/plain": [
       "(17052, 57)"
      ]
     },
     "execution_count": 14,
     "metadata": {},
     "output_type": "execute_result"
    }
   ],
   "source": [
    "X_test.shape"
   ]
  },
  {
   "cell_type": "markdown",
   "metadata": {},
   "source": [
    "### 1. Are there any null values?"
   ]
  },
  {
   "cell_type": "markdown",
   "metadata": {},
   "source": [
    "To address the issue of missing data, we will replace the null values with the feature mean."
   ]
  },
  {
   "cell_type": "code",
   "execution_count": 15,
   "metadata": {},
   "outputs": [
    {
     "data": {
      "text/plain": [
       "revenue             124\n",
       "mou                 124\n",
       "recurring_charge    124\n",
       "director_assist     124\n",
       "overage             124\n",
       "roaming             124\n",
       "minutes_delta       287\n",
       "revenue_delta       287\n",
       "phones                1\n",
       "models                1\n",
       "eqp_days              1\n",
       "age1                711\n",
       "age2                711\n",
       "dtype: int64"
      ]
     },
     "execution_count": 15,
     "metadata": {},
     "output_type": "execute_result"
    }
   ],
   "source": [
    "X_train.isnull().sum()[X_train.isnull().sum() > 0]"
   ]
  },
  {
   "cell_type": "code",
   "execution_count": 16,
   "metadata": {},
   "outputs": [],
   "source": [
    "# save the columns that have missing values\n",
    "cols_with_missing = X_train.isnull().sum()[X_train.isnull().sum() > 0].index"
   ]
  },
  {
   "cell_type": "code",
   "execution_count": 17,
   "metadata": {},
   "outputs": [],
   "source": [
    "# fill in any missing numerical values with the mean of that feature\n",
    "X_train_no_missing = hf.fill_null_values(X_train, cols_with_missing)"
   ]
  },
  {
   "cell_type": "code",
   "execution_count": 18,
   "metadata": {},
   "outputs": [
    {
     "data": {
      "text/plain": [
       "Series([], dtype: int64)"
      ]
     },
     "execution_count": 18,
     "metadata": {},
     "output_type": "execute_result"
    }
   ],
   "source": [
    "# check to make sure there are no missing values \n",
    "X_train_no_missing.isnull().sum()[X_train_no_missing.isnull().sum() > 0]"
   ]
  },
  {
   "cell_type": "markdown",
   "metadata": {},
   "source": [
    "### Missing Values for Income\n",
    "It is more appropriate to replace 0 for the mean income as 0 used to incode missing income can introduce noise."
   ]
  },
  {
   "cell_type": "code",
   "execution_count": 19,
   "metadata": {},
   "outputs": [],
   "source": [
    "# replace 0 with mean income\n",
    "X_train_no_missing['income'] = np.where(X_train_no_missing['income'] ==0, \n",
    "                                        X_train_no_missing['income'].mean(), \n",
    "                                        X_train_no_missing['income'])"
   ]
  },
  {
   "cell_type": "markdown",
   "metadata": {},
   "source": [
    "### 2. Explore \"Churn\" Class Balance / Imbalance"
   ]
  },
  {
   "cell_type": "code",
   "execution_count": 20,
   "metadata": {},
   "outputs": [
    {
     "data": {
      "text/plain": [
       "0    28401\n",
       "1    11384\n",
       "Name: churn, dtype: int64"
      ]
     },
     "execution_count": 20,
     "metadata": {},
     "output_type": "execute_result"
    }
   ],
   "source": [
    "# find out out how many customers are churning and not churning\n",
    "y_train.value_counts()"
   ]
  },
  {
   "cell_type": "code",
   "execution_count": 21,
   "metadata": {},
   "outputs": [
    {
     "data": {
      "image/png": "[encoded data removed]",
      "text/plain": [
       "<Figure size 720x432 with 1 Axes>"
      ]
     },
     "metadata": {
      "needs_background": "light"
     },
     "output_type": "display_data"
    }
   ],
   "source": [
    "plt.figure(figsize=(10, 6))\n",
    "plt.title('Number of Customers Not Churning and Churning', fontsize=15)\n",
    "sns.countplot(y_train)\n",
    "plt.show()"
   ]
  },
  {
   "cell_type": "markdown",
   "metadata": {},
   "source": [
    "### 3. Findings (why accuracy should not be used an evaluation metric)\n",
    "Our initial exploration revealed that our training data has many more than double of the customers that are not churning (class 0) vs. customers who are churning. We have a class imbalance and will have to address this issue. Additionally, this affects our choice of **the evaluation metric**. Simple accuracy would not be appropriate because the classifier could achieve a pretty high accuracy simply by predicting the dominant class (0). It is more fitting to use **roc auc score** (area under the curve). An ROC curve allows us to evalute the True Positive Rate (TPR), i.e., correctly classified churning customers, against the False Positive Rate (FPR), i.e., not churning customers who were incorrectly classified as churning at various thresholds. It will give us a better understanding how good our classifier is at predicting the churning customers than accuracy.\n"
   ]
  },
  {
   "cell_type": "markdown",
   "metadata": {},
   "source": [
    "### 4. Address Class Imbalance - Undersampling\n",
    "We will use undersampling (we will undersample the dominant class (not-churning customers)) to make the two classes more balanced. "
   ]
  },
  {
   "cell_type": "code",
   "execution_count": 22,
   "metadata": {},
   "outputs": [],
   "source": [
    "under = RandomUnderSampler()\n",
    "steps = [('u', under)]\n",
    "pipeline = Pipeline(steps=steps)\n",
    "X_train_no_missing, y_train = pipeline.fit_resample(X_train_no_missing, y_train)"
   ]
  },
  {
   "cell_type": "code",
   "execution_count": 23,
   "metadata": {},
   "outputs": [
    {
     "data": {
      "image/png": "[encoded data removed]",
      "text/plain": [
       "<Figure size 720x432 with 1 Axes>"
      ]
     },
     "metadata": {
      "needs_background": "light"
     },
     "output_type": "display_data"
    }
   ],
   "source": [
    "plt.figure(figsize=(10, 6))\n",
    "plt.title('Number of Customers Not Churning and Churning After Resampling', fontsize=15)\n",
    "sns.countplot(y_train)\n",
    "plt.show()"
   ]
  },
  {
   "cell_type": "markdown",
   "metadata": {},
   "source": [
    "### 5. Noisy Data (Negative Values)\n",
    "We will explore if any datapoints have **negative values** as none of the features (except for the deltas) should have any negative values. We will replace the negative values with the feature mean."
   ]
  },
  {
   "cell_type": "code",
   "execution_count": 24,
   "metadata": {},
   "outputs": [],
   "source": [
    "numerical_features, categorical_features =  hf.numeric_and_categorical_features(X_train_no_missing)"
   ]
  },
  {
   "cell_type": "code",
   "execution_count": 25,
   "metadata": {},
   "outputs": [
    {
     "data": {
      "text/plain": [
       "(22768, 56)"
      ]
     },
     "execution_count": 25,
     "metadata": {},
     "output_type": "execute_result"
    }
   ],
   "source": [
    "X_train_no_missing.shape"
   ]
  },
  {
   "cell_type": "code",
   "execution_count": 26,
   "metadata": {},
   "outputs": [],
   "source": [
    "# replace the noisy negative values in numerical cols with the mean\n",
    "X_train_no_missing = hf.fill_negative_vals(X_train_no_missing, numerical_features)"
   ]
  },
  {
   "cell_type": "markdown",
   "metadata": {},
   "source": [
    "## Part III. Feature Engineering"
   ]
  },
  {
   "cell_type": "markdown",
   "metadata": {},
   "source": [
    "### 1. Account for Income and Number of Users"
   ]
  },
  {
   "cell_type": "markdown",
   "metadata": {},
   "source": [
    "Due to time constaints, we will not have the ability to do an elaborate data engineering. Here, we will mainly address to issues:\n",
    "- Normalize revenue (monthly average revenue) by income, as people with different incomes might find different amounts expensive.\n",
    "- Normalize a number of features by the number of users, as the total amount may depend on the number of people contributing to the bill."
   ]
  },
  {
   "cell_type": "code",
   "execution_count": 27,
   "metadata": {},
   "outputs": [],
   "source": [
    "# find the ratio of revenue to income\n",
    "X_train_no_missing['revenue'] = X_train_no_missing['revenue'] / X_train_no_missing['income']"
   ]
  },
  {
   "cell_type": "code",
   "execution_count": 28,
   "metadata": {},
   "outputs": [],
   "source": [
    "columns_to_normalize = [\n",
    "                        'revenue',\n",
    "                        'mou',\n",
    "                        'recurring_charge',\n",
    "                        'director_assist', \n",
    "                        'overage',\n",
    "                        'roaming',\n",
    "                        'minutes_delta', \n",
    "                        'revenue_delta', \n",
    "                        'dropped_calls',\n",
    "                        'blocked_calls',\n",
    "                        'unanswered', \n",
    "                        'customer_care',\n",
    "                        'mou_received',\n",
    "                        'outcalls',\n",
    "                        'incalls',\n",
    "                        'peaks',\n",
    "                        'off_peaks',\n",
    "                        'call_forwarding',\n",
    "                        'call_waiting',\n",
    "                        'phones',\n",
    "                        'models',\n",
    "                        'accept_offer',\n",
    "                        'referrals'\n",
    "                        ]"
   ]
  },
  {
   "cell_type": "code",
   "execution_count": 29,
   "metadata": {},
   "outputs": [],
   "source": [
    "# normalize the selected columns by the number of active users\n",
    "X_train_no_missing = hf.normalize_by_users(X_train_no_missing, columns_to_normalize)"
   ]
  },
  {
   "cell_type": "markdown",
   "metadata": {},
   "source": [
    "## Part IV. The Categorical Features Exploration and Feature Selection"
   ]
  },
  {
   "cell_type": "markdown",
   "metadata": {},
   "source": [
    "### 1. Chi-Square Test For Categorical Features Relevant to Churn"
   ]
  },
  {
   "cell_type": "markdown",
   "metadata": {},
   "source": [
    "Due to the time constraints, we will opt for the fastest method of feature selection - `filter method`. To filter the categories that are relevant to churn, we will use `the chi-square test`. The null hypothesis will be that the category does not affect the churn class. The alternative hypothesis will be that the category affects the churn class. The significance level will be set at 0.05. We will select the features that will have the p-value below 0.05."
   ]
  },
  {
   "cell_type": "code",
   "execution_count": 30,
   "metadata": {},
   "outputs": [],
   "source": [
    "# create a copy of the subset of the training data with categorical features for exploraiton\n",
    "X_train_categorical = X_train_no_missing[categorical_features].copy()"
   ]
  },
  {
   "cell_type": "code",
   "execution_count": 31,
   "metadata": {},
   "outputs": [],
   "source": [
    "# include the churn score from the training data for exploration\n",
    "X_train_categorical['churn'] = y_train.tolist()"
   ]
  },
  {
   "cell_type": "code",
   "execution_count": 32,
   "metadata": {},
   "outputs": [],
   "source": [
    "# use chi square for categorical feature selection using filter feature selection method\n",
    "chi2_selection = SelectKBest(score_func=chi2, k='all')"
   ]
  },
  {
   "cell_type": "code",
   "execution_count": 33,
   "metadata": {},
   "outputs": [],
   "source": [
    "# fit the model\n",
    "fit = chi2_selection.fit(X_train_categorical[categorical_features], X_train_categorical['churn'])"
   ]
  },
  {
   "cell_type": "code",
   "execution_count": 34,
   "metadata": {},
   "outputs": [
    {
     "data": {
      "text/html": [
       "<div>\n",
       "<style scoped>\n",
       "    .dataframe tbody tr th:only-of-type {\n",
       "        vertical-align: middle;\n",
       "    }\n",
       "\n",
       "    .dataframe tbody tr th {\n",
       "        vertical-align: top;\n",
       "    }\n",
       "\n",
       "    .dataframe thead th {\n",
       "        text-align: right;\n",
       "    }\n",
       "</style>\n",
       "<table border=\"1\" class=\"dataframe\">\n",
       "  <thead>\n",
       "    <tr style=\"text-align: right;\">\n",
       "      <th></th>\n",
       "      <th>category</th>\n",
       "      <th>p_value</th>\n",
       "    </tr>\n",
       "  </thead>\n",
       "  <tbody>\n",
       "    <tr>\n",
       "      <th>23</th>\n",
       "      <td>retcall</td>\n",
       "      <td>1.5435e-31</td>\n",
       "    </tr>\n",
       "    <tr>\n",
       "      <th>2</th>\n",
       "      <td>credit_aa</td>\n",
       "      <td>8.81211e-20</td>\n",
       "    </tr>\n",
       "    <tr>\n",
       "      <th>6</th>\n",
       "      <td>refurbished</td>\n",
       "      <td>1.63089e-06</td>\n",
       "    </tr>\n",
       "    <tr>\n",
       "      <th>1</th>\n",
       "      <td>credit_a</td>\n",
       "      <td>4.09735e-05</td>\n",
       "    </tr>\n",
       "    <tr>\n",
       "      <th>3</th>\n",
       "      <td>rural</td>\n",
       "      <td>0.000297437</td>\n",
       "    </tr>\n",
       "    <tr>\n",
       "      <th>7</th>\n",
       "      <td>web_capable</td>\n",
       "      <td>0.00219356</td>\n",
       "    </tr>\n",
       "    <tr>\n",
       "      <th>15</th>\n",
       "      <td>job_retired</td>\n",
       "      <td>0.0229497</td>\n",
       "    </tr>\n",
       "    <tr>\n",
       "      <th>20</th>\n",
       "      <td>new_user</td>\n",
       "      <td>0.032335</td>\n",
       "    </tr>\n",
       "  </tbody>\n",
       "</table>\n",
       "</div>"
      ],
      "text/plain": [
       "       category      p_value\n",
       "23      retcall   1.5435e-31\n",
       "2     credit_aa  8.81211e-20\n",
       "6   refurbished  1.63089e-06\n",
       "1      credit_a  4.09735e-05\n",
       "3         rural  0.000297437\n",
       "7   web_capable   0.00219356\n",
       "15  job_retired    0.0229497\n",
       "20     new_user     0.032335"
      ]
     },
     "metadata": {},
     "output_type": "display_data"
    }
   ],
   "source": [
    "# make a report with categories and p-values \n",
    "report_df = pd.DataFrame([categorical_features, fit.pvalues_]).T\n",
    "report_df.columns = ['category', 'p_value']\n",
    "relevant = report_df[report_df.p_value < 0.05].sort_values(by='p_value')\n",
    "display(relevant)"
   ]
  },
  {
   "cell_type": "code",
   "execution_count": 35,
   "metadata": {},
   "outputs": [],
   "source": [
    "# save the features that did not show to significantly impact churn into a list\n",
    "irrelevant_categorical = [feature for feature in categorical_features if feature not in relevant['category'].tolist()]"
   ]
  },
  {
   "cell_type": "markdown",
   "metadata": {},
   "source": [
    "### 2. Visualizations of Selected Categorical Features For Churning and Non-Churning Customers"
   ]
  },
  {
   "cell_type": "markdown",
   "metadata": {},
   "source": [
    "#### Retention Calls by Churning and Non-churning Customers"
   ]
  },
  {
   "cell_type": "code",
   "execution_count": 36,
   "metadata": {},
   "outputs": [
    {
     "data": {
      "image/png": "[encoded data removed]",
      "text/plain": [
       "<Figure size 720x360 with 2 Axes>"
      ]
     },
     "metadata": {
      "needs_background": "light"
     },
     "output_type": "display_data"
    }
   ],
   "source": [
    "g = sns.FacetGrid(X_train_categorical, col='churn', height=5, margin_titles=True, sharey=False)\n",
    "g.map(sns.countplot, 'retcall')\n",
    "plt.show()"
   ]
  },
  {
   "cell_type": "markdown",
   "metadata": {},
   "source": [
    "#### Highest Credit Rating of AA among Churning and Non-Churning Customers"
   ]
  },
  {
   "cell_type": "code",
   "execution_count": 37,
   "metadata": {},
   "outputs": [
    {
     "data": {
      "image/png": "[encoded data removed]",
      "text/plain": [
       "<Figure size 1008x504 with 2 Axes>"
      ]
     },
     "metadata": {
      "needs_background": "light"
     },
     "output_type": "display_data"
    }
   ],
   "source": [
    "g = sns.FacetGrid(X_train_categorical, col='churn', height=7)\n",
    "g.map(sns.countplot, 'credit_aa')\n",
    "plt.show()"
   ]
  },
  {
   "cell_type": "markdown",
   "metadata": {},
   "source": [
    "#### Refurbished Phones Among Churning and Non-Churning Customers"
   ]
  },
  {
   "cell_type": "code",
   "execution_count": 38,
   "metadata": {},
   "outputs": [
    {
     "data": {
      "image/png": "[encoded data removed]",
      "text/plain": [
       "<Figure size 1008x504 with 2 Axes>"
      ]
     },
     "metadata": {
      "needs_background": "light"
     },
     "output_type": "display_data"
    }
   ],
   "source": [
    "g = sns.FacetGrid(X_train_categorical, col='churn', height=7)\n",
    "g.map(sns.countplot, 'refurbished')\n",
    "plt.show()"
   ]
  },
  {
   "cell_type": "markdown",
   "metadata": {},
   "source": [
    "#### Highest Credit Rating of A Among Churning and Non-Churning Customers"
   ]
  },
  {
   "cell_type": "code",
   "execution_count": 39,
   "metadata": {},
   "outputs": [
    {
     "data": {
      "image/png": "[encoded data removed]",
      "text/plain": [
       "<Figure size 1008x504 with 2 Axes>"
      ]
     },
     "metadata": {
      "needs_background": "light"
     },
     "output_type": "display_data"
    }
   ],
   "source": [
    "g = sns.FacetGrid(X_train_categorical, col='churn', height=7)\n",
    "g.map(sns.countplot, 'credit_a')\n",
    "plt.show()"
   ]
  },
  {
   "cell_type": "markdown",
   "metadata": {},
   "source": [
    "#### Life in a Rural Area Among Churning and Non-Churning Customers"
   ]
  },
  {
   "cell_type": "code",
   "execution_count": 40,
   "metadata": {},
   "outputs": [
    {
     "data": {
      "image/png": "[encoded data removed]",
      "text/plain": [
       "<Figure size 1008x504 with 2 Axes>"
      ]
     },
     "metadata": {
      "needs_background": "light"
     },
     "output_type": "display_data"
    }
   ],
   "source": [
    "g = sns.FacetGrid(X_train_categorical, col='churn', height=7)\n",
    "g.map(sns.countplot, 'rural')\n",
    "plt.show()"
   ]
  },
  {
   "cell_type": "markdown",
   "metadata": {},
   "source": [
    "#### Phones with Web Capabilities Among Churning and Non-Churning Customers"
   ]
  },
  {
   "cell_type": "code",
   "execution_count": 41,
   "metadata": {},
   "outputs": [
    {
     "data": {
      "image/png": "[encoded data removed]",
      "text/plain": [
       "<Figure size 1008x504 with 2 Axes>"
      ]
     },
     "metadata": {
      "needs_background": "light"
     },
     "output_type": "display_data"
    }
   ],
   "source": [
    "g = sns.FacetGrid(X_train_categorical, col='churn', height=7)\n",
    "g.map(sns.countplot, 'web_capable')\n",
    "plt.show()\n"
   ]
  },
  {
   "cell_type": "markdown",
   "metadata": {},
   "source": [
    "#### Occupation - Retired Among Churning and Non-Churning Customers"
   ]
  },
  {
   "cell_type": "code",
   "execution_count": 42,
   "metadata": {},
   "outputs": [
    {
     "data": {
      "image/png": "[encoded data removed]",
      "text/plain": [
       "<Figure size 1008x504 with 2 Axes>"
      ]
     },
     "metadata": {
      "needs_background": "light"
     },
     "output_type": "display_data"
    }
   ],
   "source": [
    "g = sns.FacetGrid(X_train_categorical, col='churn', height=7)\n",
    "g.map(sns.countplot, 'job_retired')\n",
    "plt.show()"
   ]
  },
  {
   "cell_type": "markdown",
   "metadata": {},
   "source": [
    "#### New Cell Phone Users Among Churning and Non-Churning Customers"
   ]
  },
  {
   "cell_type": "code",
   "execution_count": 43,
   "metadata": {},
   "outputs": [
    {
     "data": {
      "image/png": "[encoded data removed]",
      "text/plain": [
       "<Figure size 1008x504 with 2 Axes>"
      ]
     },
     "metadata": {
      "needs_background": "light"
     },
     "output_type": "display_data"
    }
   ],
   "source": [
    "g = sns.FacetGrid(X_train_categorical, col='churn', height=7)\n",
    "g.map(sns.countplot, 'new_user')\n",
    "plt.show()"
   ]
  },
  {
   "cell_type": "code",
   "execution_count": 44,
   "metadata": {},
   "outputs": [
    {
     "data": {
      "text/html": [
       "<div>\n",
       "<style scoped>\n",
       "    .dataframe tbody tr th:only-of-type {\n",
       "        vertical-align: middle;\n",
       "    }\n",
       "\n",
       "    .dataframe tbody tr th {\n",
       "        vertical-align: top;\n",
       "    }\n",
       "\n",
       "    .dataframe thead th {\n",
       "        text-align: right;\n",
       "    }\n",
       "</style>\n",
       "<table border=\"1\" class=\"dataframe\">\n",
       "  <thead>\n",
       "    <tr style=\"text-align: right;\">\n",
       "      <th></th>\n",
       "      <th>retcall</th>\n",
       "      <th>credit_aa</th>\n",
       "      <th>refurbished</th>\n",
       "      <th>credit_a</th>\n",
       "      <th>web_capable</th>\n",
       "      <th>rural</th>\n",
       "      <th>job_retired</th>\n",
       "      <th>new_user</th>\n",
       "    </tr>\n",
       "    <tr>\n",
       "      <th>churn</th>\n",
       "      <th></th>\n",
       "      <th></th>\n",
       "      <th></th>\n",
       "      <th></th>\n",
       "      <th></th>\n",
       "      <th></th>\n",
       "      <th></th>\n",
       "      <th></th>\n",
       "    </tr>\n",
       "  </thead>\n",
       "  <tbody>\n",
       "    <tr>\n",
       "      <th>0</th>\n",
       "      <td>282</td>\n",
       "      <td>1599</td>\n",
       "      <td>1496</td>\n",
       "      <td>1264</td>\n",
       "      <td>10398</td>\n",
       "      <td>473</td>\n",
       "      <td>183</td>\n",
       "      <td>2272</td>\n",
       "    </tr>\n",
       "    <tr>\n",
       "      <th>1</th>\n",
       "      <td>636</td>\n",
       "      <td>1124</td>\n",
       "      <td>1770</td>\n",
       "      <td>1066</td>\n",
       "      <td>9961</td>\n",
       "      <td>591</td>\n",
       "      <td>142</td>\n",
       "      <td>2130</td>\n",
       "    </tr>\n",
       "  </tbody>\n",
       "</table>\n",
       "</div>"
      ],
      "text/plain": [
       "       retcall  credit_aa  refurbished  credit_a  web_capable  rural  \\\n",
       "churn                                                                  \n",
       "0          282       1599         1496      1264        10398    473   \n",
       "1          636       1124         1770      1066         9961    591   \n",
       "\n",
       "       job_retired  new_user  \n",
       "churn                         \n",
       "0              183      2272  \n",
       "1              142      2130  "
      ]
     },
     "execution_count": 44,
     "metadata": {},
     "output_type": "execute_result"
    }
   ],
   "source": [
    "pd.DataFrame(X_train_categorical.groupby('churn')[['retcall', \n",
    "                                                   'credit_aa', \n",
    "                                                   'refurbished',\n",
    "                                                   'credit_a',\n",
    "                                                   'web_capable',\n",
    "                                                   'rural',\n",
    "                                                   'job_retired',\n",
    "                                                   'new_user'\n",
    "                                                   ]].sum())"
   ]
  },
  {
   "cell_type": "markdown",
   "metadata": {},
   "source": [
    "### Observations:\n",
    "From our initial exploration of the categorical features, it appears that the churning customers:\n",
    "- Tend to make more calls to the retention team;\n",
    "- Tend to have credit rating AA and A less frequently;\n",
    "- More often own a refurbished phone;\n",
    "- Tend to be have phones with web capabilities less often;\n",
    "- Have a slightly higher chance to live in a rural area;\n",
    "- Are less likely to be retired;\n",
    "- Are less likey to be a new user."
   ]
  },
  {
   "cell_type": "markdown",
   "metadata": {},
   "source": [
    "## Part V. Numerical Features Exploration and Feature Selection"
   ]
  },
  {
   "cell_type": "markdown",
   "metadata": {},
   "source": [
    "### 1. Feature Correlations with Churn"
   ]
  },
  {
   "cell_type": "markdown",
   "metadata": {},
   "source": [
    "Due to the time constraints, we will opt also for the fastest method of feature selection - filter method. To filter the categories that are relevant to churn, we will use correlation with the churn class."
   ]
  },
  {
   "cell_type": "code",
   "execution_count": 45,
   "metadata": {},
   "outputs": [],
   "source": [
    "# create the subset for exploring the numerical feature correlations\n",
    "X_train_numerical = X_train_no_missing.copy()\n",
    "X_train_numerical['churn'] = y_train.tolist()"
   ]
  },
  {
   "cell_type": "code",
   "execution_count": 46,
   "metadata": {},
   "outputs": [
    {
     "data": {
      "text/plain": [
       "eqp_days            0.1081\n",
       "uniq_subs           0.0521\n",
       "accept_offer        0.0406\n",
       "active_subs         0.0220\n",
       "months              0.0216\n",
       "overage             0.0110\n",
       "roaming             0.0107\n",
       "revenue_delta       0.0057\n",
       "income              0.0042\n",
       "call_forwarding     0.0022\n",
       "revenue            -0.0151\n",
       "blocked_calls      -0.0180\n",
       "referrals          -0.0203\n",
       "age2               -0.0213\n",
       "director_assist    -0.0219\n",
       "dropped_calls      -0.0224\n",
       "handset_price      -0.0235\n",
       "conference         -0.0281\n",
       "age1               -0.0339\n",
       "call_waiting       -0.0348\n",
       "minutes_delta      -0.0381\n",
       "unanswered         -0.0413\n",
       "outcalls           -0.0470\n",
       "mou_received       -0.0486\n",
       "incalls            -0.0494\n",
       "customer_care      -0.0503\n",
       "peaks              -0.0525\n",
       "phones             -0.0542\n",
       "off_peaks          -0.0563\n",
       "models             -0.0631\n",
       "mou                -0.0654\n",
       "recurring_charge   -0.0780\n",
       "Name: churn, dtype: float64"
      ]
     },
     "execution_count": 46,
     "metadata": {},
     "output_type": "execute_result"
    }
   ],
   "source": [
    "# display the most correlted features with churn\n",
    "# we care about both positive and negative correlations\n",
    "# [1:] is necessary because churn will have 1.0 correlation with churn itself\n",
    "X_train_numerical[numerical_features + ['churn']].corr()['churn'].sort_values(ascending=False)[1:].round(4)"
   ]
  },
  {
   "cell_type": "code",
   "execution_count": 47,
   "metadata": {},
   "outputs": [
    {
     "data": {
      "image/png": "[encoded data removed]",
      "text/plain": [
       "<Figure size 1080x576 with 1 Axes>"
      ]
     },
     "metadata": {
      "needs_background": "light"
     },
     "output_type": "display_data"
    }
   ],
   "source": [
    "plt.figure(figsize=(15,8))\n",
    "plt.title('Positive and Negative Feature Correlations With Churn', fontsize=15)\n",
    "X_train_numerical[numerical_features + ['churn']].corr()['churn'].sort_values(ascending=False)[1:] \\\n",
    "            .plot(kind='bar', color='green')\n",
    "plt.xticks(rotation=80)\n",
    "plt.show()"
   ]
  },
  {
   "cell_type": "markdown",
   "metadata": {},
   "source": [
    "### 2. Visualizations of The Numerical Features Most Correlated With Churn"
   ]
  },
  {
   "cell_type": "markdown",
   "metadata": {},
   "source": [
    "#### Box Plots of the Features Positively Correlated With Churn"
   ]
  },
  {
   "cell_type": "code",
   "execution_count": 48,
   "metadata": {},
   "outputs": [
    {
     "data": {
      "image/png": "[encoded data removed]",
      "text/plain": [
       "<Figure size 1080x360 with 3 Axes>"
      ]
     },
     "metadata": {
      "needs_background": "light"
     },
     "output_type": "display_data"
    }
   ],
   "source": [
    "plt.figure(figsize=(15, 5))\n",
    "plt.subplot(131)\n",
    "plt.title('Number of Days of Current Phone')\n",
    "sns.boxplot(x=X_train_numerical['churn'], y=X_train_numerical['eqp_days'])\n",
    "plt.subplot(132)\n",
    "plt.title('Number of Individuals On Account')\n",
    "sns.boxplot(x=X_train_numerical['churn'], y=X_train_numerical['uniq_subs'])\n",
    "plt.subplot(133)\n",
    "plt.title('Number of Previous Retention Offers Accepted')\n",
    "sns.boxplot(x=X_train_numerical['churn'], y=X_train_numerical['accept_offer'])\n",
    "plt.show()\n"
   ]
  },
  {
   "cell_type": "markdown",
   "metadata": {},
   "source": [
    "We explored some of the numerical features that showed the highest positive correlation with the churn class. The `number of days of current phone` had a positive correlation coefficient of 0.1081, `the number of individuals on the account` had a positive correlation of 0.0521, `the number of previous retention offers accepted` had a positive correlation coefficient of 0.0406.  \n",
    "\n",
    "Still, these correlation coefficients were rather small. From the boxplot, we could only really be somewhat sure that the churning customers tends to have more days of current phone, i.e., the longer they stay with the current phone, the more likely they are to churn. Higher number of individuals on the account seems to be also associated with a higher likelihood to churn. From the boxtplot, we cannot be so sure about the impact of the number of the previous retention offers accepted."
   ]
  },
  {
   "cell_type": "markdown",
   "metadata": {},
   "source": [
    "#### Features Negatively Correlated With Churn"
   ]
  },
  {
   "cell_type": "code",
   "execution_count": 49,
   "metadata": {},
   "outputs": [
    {
     "data": {
      "image/png": "[encoded data removed]",
      "text/plain": [
       "<Figure size 1080x360 with 3 Axes>"
      ]
     },
     "metadata": {
      "needs_background": "light"
     },
     "output_type": "display_data"
    }
   ],
   "source": [
    "plt.figure(figsize=(15, 5))\n",
    "plt.subplot(131)\n",
    "plt.title('Total Recurring Charge')\n",
    "sns.boxplot(x=X_train_numerical['churn'], y=X_train_numerical['recurring_charge'])\n",
    "plt.subplot(132)\n",
    "plt.title('Average Monthly Minutes')\n",
    "sns.boxplot(x=X_train_numerical['churn'], y=X_train_numerical['mou'])\n",
    "plt.subplot(133)\n",
    "plt.title('Number of Unique Phone Models Issued')\n",
    "sns.boxplot(x=X_train_numerical['churn'], y=X_train_numerical['models'])\n",
    "plt.show()\n"
   ]
  },
  {
   "cell_type": "markdown",
   "metadata": {},
   "source": [
    "The higher amount of `the total recurring charge`, `average monthly minutes`, and `number of unique phones issued` are all negatively correlated with churning (the correlation coefficients are -0.078, -0.065, and -0.063 respectively). We can see the same trend from the visualization. The non-churnining customers tend to have a higher recurring charge, more monthly minutes, and more unique phone models. "
   ]
  },
  {
   "cell_type": "markdown",
   "metadata": {},
   "source": [
    "### 3. Log-Transform The Features\n",
    "To make the features more correlated with the outcome (churn), we will log-transform them."
   ]
  },
  {
   "cell_type": "code",
   "execution_count": 50,
   "metadata": {},
   "outputs": [],
   "source": [
    "# save the columns with numerical values except for the deltas, we will use them for transformations\n",
    "non_negative_numerical = [col for col in numerical_features if col not in ['minutes_delta', 'revenue_delta']]\n",
    "# log-transform the non-negative numerical values\n",
    "X_train_no_missing = hf.log_transform(X_train_no_missing, non_negative_numerical)\n",
    "\n",
    "X_train_numerical_log = X_train_no_missing.copy()\n",
    "X_train_numerical_log['churn'] = y_train.tolist()"
   ]
  },
  {
   "cell_type": "markdown",
   "metadata": {},
   "source": [
    "#### Feature Correlations with Churn after Log-Transform"
   ]
  },
  {
   "cell_type": "code",
   "execution_count": 51,
   "metadata": {},
   "outputs": [
    {
     "data": {
      "text/plain": [
       "eqp_days            0.1094\n",
       "uniq_subs           0.0560\n",
       "months              0.0501\n",
       "active_subs         0.0255\n",
       "overage             0.0209\n",
       "roaming             0.0184\n",
       "revenue_delta       0.0057\n",
       "income              0.0039\n",
       "call_forwarding     0.0013\n",
       "conference         -0.0041\n",
       "referrals          -0.0053\n",
       "director_assist    -0.0130\n",
       "age2               -0.0170\n",
       "age1               -0.0264\n",
       "blocked_calls      -0.0270\n",
       "dropped_calls      -0.0285\n",
       "call_waiting       -0.0316\n",
       "accept_offer       -0.0320\n",
       "handset_price      -0.0343\n",
       "revenue            -0.0371\n",
       "minutes_delta      -0.0381\n",
       "customer_care      -0.0522\n",
       "mou_received       -0.0523\n",
       "outcalls           -0.0593\n",
       "unanswered         -0.0601\n",
       "incalls            -0.0622\n",
       "phones             -0.0685\n",
       "peaks              -0.0711\n",
       "off_peaks          -0.0734\n",
       "models             -0.0736\n",
       "recurring_charge   -0.0773\n",
       "mou                -0.0938\n",
       "Name: churn, dtype: float64"
      ]
     },
     "execution_count": 51,
     "metadata": {},
     "output_type": "execute_result"
    }
   ],
   "source": [
    "# display the most correlted features with churn\n",
    "# we care about both positive and negative correlations\n",
    "# [1:] is necessary because churn will have 1.0 correlation with churn itself\n",
    "X_train_numerical_log[numerical_features + ['churn']].corr()['churn'].sort_values(ascending=False)[1:].round(4)"
   ]
  },
  {
   "cell_type": "markdown",
   "metadata": {},
   "source": [
    "Log-transform helped us improve correlations coefficients, e.g., mou (on a log scale) is now stronger negatively correlated with churn (-0.094 vs. -0.065 before the transformation)."
   ]
  },
  {
   "cell_type": "markdown",
   "metadata": {},
   "source": [
    "### 4. Identify Features With Low Correlation With Churn\n",
    "Here, we will define low correlation as having the absolute value of the correlation coefficient below 0.01."
   ]
  },
  {
   "cell_type": "code",
   "execution_count": 56,
   "metadata": {},
   "outputs": [
    {
     "name": "stdout",
     "output_type": "stream",
     "text": [
      "Numerical features that have a low correlation coefficient with churn: revenue_delta, income, call_forwarding, conference, referrals\n"
     ]
    }
   ],
   "source": [
    "# identify features that have the absolute value of the correlation coefficient with churn below 0.01\n",
    "low_corr = X_train_numerical_log[numerical_features + ['churn']].corr()['churn'].sort_values(ascending=False)[\n",
    "                                np.abs(X_train_numerical_log[numerical_features + \\\n",
    "                                ['churn']].corr()['churn'].sort_values(ascending=False)) < 0.01]\n",
    "\n",
    "# save the names of these features\n",
    "features_low_corr = low_corr.index\n",
    "\n",
    "print('Numerical features that have a low correlation coefficient with churn:', ', '.join(features_low_corr.tolist()))"
   ]
  },
  {
   "cell_type": "markdown",
   "metadata": {},
   "source": [
    "### Drop \"Churn\" to Avoid Data Leakage\n",
    "We used \"churn\" column for correlations analysis. Now we need to drop it."
   ]
  },
  {
   "cell_type": "code",
   "execution_count": 57,
   "metadata": {},
   "outputs": [],
   "source": [
    "X_train_numerical_log = X_train_numerical_log.drop(['churn'], axis=1)"
   ]
  },
  {
   "cell_type": "markdown",
   "metadata": {},
   "source": [
    "### 5. Standardize the Numerical Features\n",
    "To make sure all the numerical features are on the same scale, it is necessary to standardize them, i.e, turn them into z-scores.\n"
   ]
  },
  {
   "cell_type": "code",
   "execution_count": 58,
   "metadata": {},
   "outputs": [],
   "source": [
    "# initialize the scaler\n",
    "scaler = StandardScaler()\n",
    "\n",
    "# standardize the numerical features\n",
    "X_train_num_scaled = pd.DataFrame(scaler.fit_transform(X_train_numerical_log[numerical_features]),\n",
    "                                                       columns = numerical_features)\n",
    "\n",
    "# combine the numerical features with the categorical\n",
    "combined_training_df = pd.concat([X_train_num_scaled, X_train_no_missing[categorical_features]], axis=1)"
   ]
  },
  {
   "cell_type": "code",
   "execution_count": 59,
   "metadata": {},
   "outputs": [
    {
     "data": {
      "text/plain": [
       "['models/scaler.sav']"
      ]
     },
     "execution_count": 59,
     "metadata": {},
     "output_type": "execute_result"
    }
   ],
   "source": [
    "filename = 'finalized_model.sav'\n",
    "joblib.dump(scaler, 'models/scaler.sav')"
   ]
  },
  {
   "cell_type": "code",
   "execution_count": 60,
   "metadata": {},
   "outputs": [
    {
     "data": {
      "text/plain": [
       "Index(['revenue', 'mou', 'recurring_charge', 'director_assist', 'overage',\n",
       "       'roaming', 'minutes_delta', 'revenue_delta', 'dropped_calls',\n",
       "       'blocked_calls', 'unanswered', 'customer_care', 'conference',\n",
       "       'mou_received', 'outcalls', 'incalls', 'peaks', 'off_peaks',\n",
       "       'call_forwarding', 'call_waiting', 'months', 'uniq_subs', 'active_subs',\n",
       "       'phones', 'models', 'eqp_days', 'age1', 'age2', 'accept_offer',\n",
       "       'referrals', 'income', 'handset_price', 'children', 'credit_a',\n",
       "       'credit_aa', 'rural', 'suburban', 'town', 'refurbished', 'web_capable',\n",
       "       'truck', 'rv', 'job_prof', 'job_clerical', 'job_crafts', 'job_student',\n",
       "       'job_homemaker', 'job_retired', 'job_self', 'travel', 'pcown',\n",
       "       'credit_card', 'new_user', 'existing_user', 'motorcycle', 'retcall'],\n",
       "      dtype='object')"
      ]
     },
     "execution_count": 60,
     "metadata": {},
     "output_type": "execute_result"
    }
   ],
   "source": [
    "combined_training_df.columns"
   ]
  },
  {
   "cell_type": "code",
   "execution_count": 61,
   "metadata": {},
   "outputs": [
    {
     "data": {
      "text/plain": [
       "[False]"
      ]
     },
     "execution_count": 61,
     "metadata": {},
     "output_type": "execute_result"
    }
   ],
   "source": [
    "# make sure the training data is not leaking the target variable\n",
    "['churn' in combined_training_df.columns]"
   ]
  },
  {
   "cell_type": "code",
   "execution_count": 62,
   "metadata": {},
   "outputs": [
    {
     "data": {
      "text/plain": [
       "(22768, 56)"
      ]
     },
     "execution_count": 62,
     "metadata": {},
     "output_type": "execute_result"
    }
   ],
   "source": [
    "combined_training_df.shape"
   ]
  },
  {
   "cell_type": "markdown",
   "metadata": {},
   "source": [
    "## Part VI. Filter Method of Feature Selection\n",
    "Some features have very low correlation coefficients with churn, which we define here as having the absolute value below 0.01. We will exclude them from modeling, i.e., use filter method of feature selection based on correlations. For categorical features, we used chi-square test and filtered out such features that had limited impact on churn (p-value of being the same in the churn and non-churn class over 0.05)."
   ]
  },
  {
   "cell_type": "code",
   "execution_count": 63,
   "metadata": {},
   "outputs": [],
   "source": [
    "# features we should filter out based on analysis\n",
    "features_to_remove = features_low_corr.tolist() + irrelevant_categorical \n",
    "\n",
    "# remove filtered out features\n",
    "combined_training_df = combined_training_df.drop(features_to_remove, axis=1)"
   ]
  },
  {
   "cell_type": "code",
   "execution_count": 64,
   "metadata": {},
   "outputs": [
    {
     "data": {
      "text/plain": [
       "21"
      ]
     },
     "execution_count": 64,
     "metadata": {},
     "output_type": "execute_result"
    }
   ],
   "source": [
    "len(features_to_remove)"
   ]
  },
  {
   "cell_type": "code",
   "execution_count": 65,
   "metadata": {},
   "outputs": [
    {
     "data": {
      "text/plain": [
       "(22768, 35)"
      ]
     },
     "execution_count": 65,
     "metadata": {},
     "output_type": "execute_result"
    }
   ],
   "source": [
    "combined_training_df.shape"
   ]
  },
  {
   "cell_type": "markdown",
   "metadata": {},
   "source": [
    "## Part VII. Trained Supervised Models on the Training Set With Cross-Valiation"
   ]
  },
  {
   "cell_type": "markdown",
   "metadata": {},
   "source": [
    "Here, we will train Logistic Regression (with l1 and l2 regularization), Random Forest, and CatBoost on the training data with 3-fold cross validation. In the process, we will fine-tune hyper-parameters of each of the algorithm and select the best-performing hyper-parameters. We will use roc-auc score as the evaluation metric."
   ]
  },
  {
   "cell_type": "markdown",
   "metadata": {},
   "source": [
    "### 1. Logistic Regression"
   ]
  },
  {
   "cell_type": "markdown",
   "metadata": {},
   "source": [
    "We will select the best hyper-parameters, including the regularization method (penalty) as either `l1 - Lasso` or `l2 Ridge` as well as the regularization coefficient. These regularized models have embedded feature selection as they lower the coefficients for the least important features. They also address the issue of correlated features."
   ]
  },
  {
   "cell_type": "code",
   "execution_count": 66,
   "metadata": {},
   "outputs": [
    {
     "name": "stdout",
     "output_type": "stream",
     "text": [
      "Fitting 3 folds for each of 12 candidates, totalling 36 fits\n"
     ]
    },
    {
     "name": "stderr",
     "output_type": "stream",
     "text": [
      "[Parallel(n_jobs=1)]: Using backend SequentialBackend with 1 concurrent workers.\n",
      "[Parallel(n_jobs=1)]: Done  36 out of  36 | elapsed:    0.9s finished\n"
     ]
    },
    {
     "data": {
      "text/plain": [
       "GridSearchCV(cv=3, estimator=LogisticRegression(),\n",
       "             param_grid=[{'C': [1e-20, 0.001, 0.001, 10, 100.0, 1000.0],\n",
       "                          'penalty': ['l1', 'l2']}],\n",
       "             scoring='roc_auc', verbose=1)"
      ]
     },
     "execution_count": 66,
     "metadata": {},
     "output_type": "execute_result"
    }
   ],
   "source": [
    "# select the best hyper-parameters, including the regularization method (penalty) as either l1 - Lasso or l2 Ridge\n",
    "param_grid = [\n",
    "            {'C': [1e-20, 1e-3,1e-3,  10, 1e2, 1e3],\n",
    "            'penalty': ['l1', 'l2']}\n",
    "            ]\n",
    "# initialize the logistic regression\n",
    "lr = LogisticRegression()\n",
    "grid_search = GridSearchCV(lr, \n",
    "                           param_grid, \n",
    "                           cv=3,\n",
    "                           scoring='roc_auc', \n",
    "                           verbose=1)\n",
    "# fit the model\n",
    "grid_search.fit(combined_training_df, y_train)"
   ]
  },
  {
   "cell_type": "code",
   "execution_count": 67,
   "metadata": {},
   "outputs": [
    {
     "name": "stdout",
     "output_type": "stream",
     "text": [
      "Best score 0.6211495314053863\n",
      "Best parameters {'C': 1000.0, 'penalty': 'l2'}\n"
     ]
    }
   ],
   "source": [
    "print('Best score', grid_search.best_score_)\n",
    "print('Best parameters', grid_search.best_params_)"
   ]
  },
  {
   "cell_type": "markdown",
   "metadata": {},
   "source": [
    "### 2. Random Forest"
   ]
  },
  {
   "cell_type": "code",
   "execution_count": 68,
   "metadata": {},
   "outputs": [
    {
     "data": {
      "text/plain": [
       "GridSearchCV(cv=3, estimator=RandomForestClassifier(n_jobs=-1), n_jobs=-1,\n",
       "             param_grid=[{'max_depth': [5, 8, 12, 20, 30],\n",
       "                          'n_estimators': [100, 500, 700]}],\n",
       "             scoring='roc_auc')"
      ]
     },
     "execution_count": 68,
     "metadata": {},
     "output_type": "execute_result"
    }
   ],
   "source": [
    "# define hypermarameters to test\n",
    "param_grid_rfc = [\n",
    "                 {'n_estimators': [100, 500, 700],\n",
    "                 'max_depth': [5, 8, 12, 20, 30]}\n",
    "                 ]\n",
    "# initialize the random forest classifier\n",
    "rfc = RandomForestClassifier(n_jobs = -1)\n",
    "\n",
    "grid_search_rfc = GridSearchCV(rfc, param_grid_rfc, \n",
    "                               cv=3,\n",
    "                               scoring='roc_auc', \n",
    "                               verbose=0,\n",
    "                               n_jobs =-1)\n",
    "# fit the model\n",
    "grid_search_rfc.fit(combined_training_df, y_train)"
   ]
  },
  {
   "cell_type": "code",
   "execution_count": 69,
   "metadata": {},
   "outputs": [
    {
     "name": "stdout",
     "output_type": "stream",
     "text": [
      "Best score 0.6559224844895212\n",
      "Best parameters {'max_depth': 12, 'n_estimators': 700}\n"
     ]
    }
   ],
   "source": [
    "print('Best score', grid_search_rfc.best_score_)\n",
    "print('Best parameters', grid_search_rfc.best_params_)"
   ]
  },
  {
   "cell_type": "code",
   "execution_count": 70,
   "metadata": {},
   "outputs": [
    {
     "data": {
      "text/plain": [
       "GridSearchCV(cv=3, estimator=RandomForestClassifier(max_depth=12, n_jobs=-1),\n",
       "             n_jobs=-1, param_grid=[{'n_estimators': [1000, 1200]}],\n",
       "             scoring='roc_auc')"
      ]
     },
     "execution_count": 70,
     "metadata": {},
     "output_type": "execute_result"
    }
   ],
   "source": [
    "# try to see if roc-auc score improves with more estimators\n",
    "param_grid_rfc = [{'n_estimators': [1000, 1200]}]\n",
    "# initialize the random forest classifier\n",
    "rfc = RandomForestClassifier(n_jobs = -1, max_depth=12)\n",
    "grid_search_rfc = GridSearchCV(rfc, \n",
    "                               param_grid_rfc, \n",
    "                               cv=3,\n",
    "                               scoring='roc_auc', \n",
    "                               verbose=0,\n",
    "                               n_jobs=-1)\n",
    "# fit the model\n",
    "grid_search_rfc.fit(combined_training_df, y_train)"
   ]
  },
  {
   "cell_type": "code",
   "execution_count": 71,
   "metadata": {},
   "outputs": [
    {
     "name": "stdout",
     "output_type": "stream",
     "text": [
      "Best score 0.6558002371278514\n",
      "Best parameters {'n_estimators': 1000}\n"
     ]
    }
   ],
   "source": [
    "print('Best score', grid_search_rfc.best_score_)\n",
    "print('Best parameters', grid_search_rfc.best_params_)"
   ]
  },
  {
   "cell_type": "markdown",
   "metadata": {},
   "source": [
    "### 3. CatBoost Classifier"
   ]
  },
  {
   "cell_type": "code",
   "execution_count": 72,
   "metadata": {},
   "outputs": [
    {
     "data": {
      "text/plain": [
       "GridSearchCV(cv=3,\n",
       "             estimator=<catboost.core.CatBoostClassifier object at 0x7fbdbfd77c90>,\n",
       "             n_jobs=-1,\n",
       "             param_grid={'depth': [4, 6, 10], 'iterations': [100, 300, 500],\n",
       "                         'learning_rate': [0.5, 0.1]},\n",
       "             scoring='roc_auc')"
      ]
     },
     "execution_count": 72,
     "metadata": {},
     "output_type": "execute_result"
    }
   ],
   "source": [
    "# define hyperparameters\n",
    "param_grid = {'iterations': [100, 300, 500], \n",
    "              'depth': [4, 6, 10],\n",
    "              'learning_rate': [0.5, 0.1]}\n",
    "# initialize the model\n",
    "cat_boost = CatBoostClassifier(verbose=0)\n",
    "# perform cross-validation \n",
    "grid_search_cat = GridSearchCV(cat_boost, \n",
    "                               param_grid, \n",
    "                               cv=3,\n",
    "                               scoring= 'roc_auc', \n",
    "                               verbose=0, \n",
    "                               n_jobs=-1)\n",
    "# fit the model\n",
    "grid_search_cat.fit(combined_training_df, y_train)"
   ]
  },
  {
   "cell_type": "code",
   "execution_count": 73,
   "metadata": {},
   "outputs": [
    {
     "name": "stdout",
     "output_type": "stream",
     "text": [
      "Best score 0.661515180891597\n",
      "Best parameters {'depth': 4, 'iterations': 300, 'learning_rate': 0.1}\n"
     ]
    }
   ],
   "source": [
    "print('Best score', grid_search_cat.best_score_)\n",
    "print('Best parameters', grid_search_cat.best_params_)"
   ]
  },
  {
   "cell_type": "code",
   "execution_count": 74,
   "metadata": {},
   "outputs": [
    {
     "data": {
      "text/plain": [
       "GridSearchCV(cv=3,\n",
       "             estimator=<catboost.core.CatBoostClassifier object at 0x7fbdc0a5fb50>,\n",
       "             n_jobs=-1, param_grid={'depth': [2]}, scoring='roc_auc')"
      ]
     },
     "execution_count": 74,
     "metadata": {},
     "output_type": "execute_result"
    }
   ],
   "source": [
    "# see if a more shallow tree depth would help\n",
    "param_grid = {'depth': [2]}\n",
    "# initialize the model\n",
    "cat_boost = CatBoostClassifier(verbose=0, \n",
    "                               iterations=300, \n",
    "                               learning_rate=0.1)\n",
    "\n",
    "grid_search_cat = GridSearchCV(cat_boost, \n",
    "                               param_grid, \n",
    "                               cv=3,\n",
    "                               scoring= 'roc_auc', \n",
    "                               verbose=0, \n",
    "                               n_jobs=-1)\n",
    "# fit the models\n",
    "grid_search_cat.fit(combined_training_df, y_train)"
   ]
  },
  {
   "cell_type": "code",
   "execution_count": 75,
   "metadata": {},
   "outputs": [
    {
     "name": "stdout",
     "output_type": "stream",
     "text": [
      "Best score 0.6576465018457499\n",
      "Best parameters {'depth': 2}\n"
     ]
    }
   ],
   "source": [
    "print('Best score', grid_search_cat.best_score_)\n",
    "print('Best parameters', grid_search_cat.best_params_)"
   ]
  },
  {
   "cell_type": "markdown",
   "metadata": {},
   "source": [
    "## Part VIII. Train and Save the Models With The Best Hyperparameters"
   ]
  },
  {
   "cell_type": "code",
   "execution_count": 76,
   "metadata": {},
   "outputs": [
    {
     "data": {
      "text/plain": [
       "LogisticRegression(C=1000)"
      ]
     },
     "execution_count": 76,
     "metadata": {},
     "output_type": "execute_result"
    }
   ],
   "source": [
    "# train and save logistic regression\n",
    "lr_best = LogisticRegression(C= 1000, \n",
    "                             penalty= 'l2')\n",
    "lr_best.fit(combined_training_df, y_train)"
   ]
  },
  {
   "cell_type": "code",
   "execution_count": 78,
   "metadata": {},
   "outputs": [
    {
     "data": {
      "text/plain": [
       "['models/logistic_regression.sav']"
      ]
     },
     "execution_count": 78,
     "metadata": {},
     "output_type": "execute_result"
    }
   ],
   "source": [
    "# save the model to 'models' folder\n",
    "joblib.dump(lr_best, 'models/logistic_regression.sav')"
   ]
  },
  {
   "cell_type": "code",
   "execution_count": 79,
   "metadata": {},
   "outputs": [
    {
     "data": {
      "text/plain": [
       "RandomForestClassifier(max_depth=12, n_estimators=700, n_jobs=-1)"
      ]
     },
     "execution_count": 79,
     "metadata": {},
     "output_type": "execute_result"
    }
   ],
   "source": [
    "# train and save Random Forest\n",
    "rfc_best = RandomForestClassifier(max_depth=12, \n",
    "                                  n_estimators=700, \n",
    "                                  n_jobs = -1)\n",
    "rfc_best.fit(combined_training_df, y_train)"
   ]
  },
  {
   "cell_type": "code",
   "execution_count": 80,
   "metadata": {},
   "outputs": [
    {
     "data": {
      "text/plain": [
       "['models/random_forest.sav']"
      ]
     },
     "execution_count": 80,
     "metadata": {},
     "output_type": "execute_result"
    }
   ],
   "source": [
    "# save the model to 'models' folder\n",
    "joblib.dump(rfc_best, 'models/random_forest.sav')"
   ]
  },
  {
   "cell_type": "code",
   "execution_count": 81,
   "metadata": {},
   "outputs": [
    {
     "data": {
      "text/plain": [
       "<catboost.core.CatBoostClassifier at 0x7fbda0058e10>"
      ]
     },
     "execution_count": 81,
     "metadata": {},
     "output_type": "execute_result"
    }
   ],
   "source": [
    "# train \n",
    "cat_best = CatBoostClassifier(iterations=300, \n",
    "                              max_depth=4, \n",
    "                              learning_rate=0.1, \n",
    "                              verbose=0)\n",
    "cat_best.fit(combined_training_df, y_train)"
   ]
  },
  {
   "cell_type": "code",
   "execution_count": 82,
   "metadata": {},
   "outputs": [
    {
     "data": {
      "text/plain": [
       "['models/catboost.sav']"
      ]
     },
     "execution_count": 82,
     "metadata": {},
     "output_type": "execute_result"
    }
   ],
   "source": [
    "# save the model to 'models' folder\n",
    "joblib.dump(cat_best, 'models/catboost.sav')"
   ]
  },
  {
   "cell_type": "code",
   "execution_count": 84,
   "metadata": {},
   "outputs": [
    {
     "name": "stdout",
     "output_type": "stream",
     "text": [
      "Removed features: ['revenue_delta', 'income', 'call_forwarding', 'conference', 'referrals', 'children', 'suburban', 'town', 'truck', 'rv', 'job_prof', 'job_clerical', 'job_crafts', 'job_student', 'job_homemaker', 'job_self', 'travel', 'pcown', 'credit_card', 'existing_user', 'motorcycle']\n"
     ]
    }
   ],
   "source": [
    "# make a note of the features we filtered out\n",
    "print('Removed features:',\n",
    "      features_to_remove)"
   ]
  },
  {
   "cell_type": "markdown",
   "metadata": {},
   "source": [
    "### Testing The Models\n",
    "We test these pre-trained models in the notebook \"Validation_On_Test_Set.\""
   ]
  },
  {
   "cell_type": "code",
   "execution_count": null,
   "metadata": {},
   "outputs": [],
   "source": []
  }
 ],
 "metadata": {
  "kernelspec": {
   "display_name": "Python 3",
   "language": "python",
   "name": "python3"
  },
  "language_info": {
   "codemirror_mode": {
    "name": "ipython",
    "version": 3
   },
   "file_extension": ".py",
   "mimetype": "text/x-python",
   "name": "python",
   "nbconvert_exporter": "python",
   "pygments_lexer": "ipython3",
   "version": "3.7.7"
  }
 },
 "nbformat": 4,
 "nbformat_minor": 4
}
